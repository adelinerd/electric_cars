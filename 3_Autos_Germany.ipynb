{
 "cells": [
  {
   "cell_type": "code",
   "execution_count": null,
   "id": "0862dec9-05b8-4789-9c57-74ccc3dda501",
   "metadata": {},
   "outputs": [],
   "source": []
  },
  {
   "cell_type": "markdown",
   "id": "04194cec-5426-4c23-8940-677aa8e58d2f",
   "metadata": {},
   "source": [
    "## Environment Setup"
   ]
  },
  {
   "cell_type": "code",
   "execution_count": 3,
   "id": "30c82bc5-803b-4c94-9c1d-7078882b8de9",
   "metadata": {},
   "outputs": [
    {
     "ename": "ModuleNotFoundError",
     "evalue": "No module named 'plotly'",
     "output_type": "error",
     "traceback": [
      "\u001b[1;31m---------------------------------------------------------------------------\u001b[0m",
      "\u001b[1;31mModuleNotFoundError\u001b[0m                       Traceback (most recent call last)",
      "Cell \u001b[1;32mIn[3], line 15\u001b[0m\n\u001b[0;32m     13\u001b[0m \u001b[38;5;28;01mimport\u001b[39;00m\u001b[38;5;250m \u001b[39m\u001b[38;5;21;01msys\u001b[39;00m\n\u001b[0;32m     14\u001b[0m sys\u001b[38;5;241m.\u001b[39mpath\u001b[38;5;241m.\u001b[39minsert (\u001b[38;5;241m0\u001b[39m, \u001b[38;5;124m'\u001b[39m\u001b[38;5;124m./_functions_/\u001b[39m\u001b[38;5;124m'\u001b[39m)\n\u001b[1;32m---> 15\u001b[0m \u001b[38;5;28;01mfrom\u001b[39;00m\u001b[38;5;250m \u001b[39m\u001b[38;5;21;01mfunctions_electric_cars\u001b[39;00m\u001b[38;5;250m \u001b[39m\u001b[38;5;28;01mimport\u001b[39;00m \u001b[38;5;241m*\u001b[39m\n",
      "File \u001b[1;32m~\\repositories\\data-analytics\\electric_cars\\_functions_\\functions_electric_cars.py:11\u001b[0m\n\u001b[0;32m      9\u001b[0m \u001b[38;5;28;01mimport\u001b[39;00m\u001b[38;5;250m \u001b[39m\u001b[38;5;21;01mmatplotlib\u001b[39;00m\u001b[38;5;21;01m.\u001b[39;00m\u001b[38;5;21;01mpyplot\u001b[39;00m\u001b[38;5;250m \u001b[39m\u001b[38;5;28;01mas\u001b[39;00m\u001b[38;5;250m \u001b[39m\u001b[38;5;21;01mplt\u001b[39;00m\n\u001b[0;32m     10\u001b[0m \u001b[38;5;28;01mimport\u001b[39;00m\u001b[38;5;250m \u001b[39m\u001b[38;5;21;01mseaborn\u001b[39;00m\u001b[38;5;250m \u001b[39m\u001b[38;5;28;01mas\u001b[39;00m\u001b[38;5;250m \u001b[39m\u001b[38;5;21;01msns\u001b[39;00m\n\u001b[1;32m---> 11\u001b[0m \u001b[38;5;28;01mimport\u001b[39;00m\u001b[38;5;250m \u001b[39m\u001b[38;5;21;01mplotly\u001b[39;00m\u001b[38;5;21;01m.\u001b[39;00m\u001b[38;5;21;01moffline\u001b[39;00m\u001b[38;5;250m \u001b[39m\u001b[38;5;28;01mas\u001b[39;00m\u001b[38;5;250m \u001b[39m\u001b[38;5;21;01mpy\u001b[39;00m\n\u001b[0;32m     12\u001b[0m \u001b[38;5;28;01mimport\u001b[39;00m\u001b[38;5;250m \u001b[39m\u001b[38;5;21;01mplotly\u001b[39;00m\u001b[38;5;21;01m.\u001b[39;00m\u001b[38;5;21;01mgraph_objs\u001b[39;00m\u001b[38;5;250m \u001b[39m\u001b[38;5;28;01mas\u001b[39;00m\u001b[38;5;250m \u001b[39m\u001b[38;5;21;01mgo\u001b[39;00m\n\u001b[0;32m     13\u001b[0m \u001b[38;5;28;01mimport\u001b[39;00m\u001b[38;5;250m \u001b[39m\u001b[38;5;21;01mplotly\u001b[39;00m\u001b[38;5;21;01m.\u001b[39;00m\u001b[38;5;21;01mtools\u001b[39;00m\u001b[38;5;250m \u001b[39m\u001b[38;5;28;01mas\u001b[39;00m\u001b[38;5;250m \u001b[39m\u001b[38;5;21;01mtls\u001b[39;00m\n",
      "\u001b[1;31mModuleNotFoundError\u001b[0m: No module named 'plotly'"
     ]
    }
   ],
   "source": [
    "import pandas as pd\n",
    "pd.options.mode.chained_assignment = None\n",
    "\n",
    "import numpy as np\n",
    "import seaborn as sns\n",
    "import matplotlib.pyplot as plt\n",
    "#import plotly.express as px\n",
    "\n",
    "import warnings\n",
    "warnings.filterwarnings('ignore')\n",
    "\n",
    "\n",
    "import sys\n",
    "sys.path.insert (0, './_functions_/')\n",
    "from functions_electric_cars import *"
   ]
  },
  {
   "cell_type": "markdown",
   "id": "5d24a067-0020-4b5f-932b-58d346ed95fa",
   "metadata": {},
   "source": [
    "## Datasets"
   ]
  },
  {
   "cell_type": "code",
   "execution_count": 2,
   "id": "a9843c00-a90d-478a-941b-0eee0a950c4b",
   "metadata": {},
   "outputs": [
    {
     "ename": "NameError",
     "evalue": "name 'merge_excel_sheets' is not defined",
     "output_type": "error",
     "traceback": [
      "\u001b[1;31m---------------------------------------------------------------------------\u001b[0m",
      "\u001b[1;31mNameError\u001b[0m                                 Traceback (most recent call last)",
      "Cell \u001b[1;32mIn[2], line 1\u001b[0m\n\u001b[1;32m----> 1\u001b[0m df \u001b[38;5;241m=\u001b[39m \u001b[43mmerge_excel_sheets\u001b[49m(\u001b[38;5;124m\"\u001b[39m\u001b[38;5;124m./raw_data/02__autos_nach_bundesland_kraftstoff.xlsx\u001b[39m\u001b[38;5;124m\"\u001b[39m)\n\u001b[0;32m      2\u001b[0m df\u001b[38;5;241m.\u001b[39mhead()\n",
      "\u001b[1;31mNameError\u001b[0m: name 'merge_excel_sheets' is not defined"
     ]
    }
   ],
   "source": [
    "df = merge_excel_sheets(\"./raw_data/02__autos_nach_bundesland_kraftstoff.xlsx\")\n",
    "df.head()"
   ]
  },
  {
   "cell_type": "markdown",
   "id": "f1273122-fb85-4985-992c-7a5f5c540274",
   "metadata": {},
   "source": [
    "## Handling missing values"
   ]
  },
  {
   "cell_type": "markdown",
   "id": "328d3aec-8c5c-41eb-8281-8f0ce2f5608a",
   "metadata": {},
   "source": [
    "Check for NaNs"
   ]
  },
  {
   "cell_type": "code",
   "execution_count": null,
   "id": "a4425d56-57af-4cfd-bfca-3212c056f133",
   "metadata": {},
   "outputs": [],
   "source": [
    "df.isnull().sum()"
   ]
  },
  {
   "cell_type": "markdown",
   "id": "94032097-5095-4900-8d37-ac584dfa071c",
   "metadata": {},
   "source": [
    "The lines that contain no Kraftstoffart are the ones that include totals, therefore we will replace with the value 'Total'"
   ]
  },
  {
   "cell_type": "code",
   "execution_count": null,
   "id": "49dcbef1-2ea6-4b3d-a316-d2223c86751b",
   "metadata": {},
   "outputs": [],
   "source": [
    "# the lines that contain no Kraftstoffart are the ones that include totals, therefore we will replace with the value 'Total'\n",
    "df['Kraftstoffart'] = df['Kraftstoffart'].fillna('Total') \n",
    "df"
   ]
  },
  {
   "cell_type": "code",
   "execution_count": null,
   "id": "cd54ddfb-007b-45b8-889f-1a4b4d6dc2bf",
   "metadata": {},
   "outputs": [],
   "source": [
    "#remove the text \"zusammen\" or \"insgesamt\" from the Land\n",
    "df['Land'] = df['Land'].str.replace(r'\\s+zusammen$', '', regex=True)\n",
    "df['Land'] = df['Land'].str.replace(r'\\s+insgesamt$', '', regex=True)\n"
   ]
  },
  {
   "cell_type": "code",
   "execution_count": null,
   "id": "c9e9afbf-57f9-47ff-8ae6-1092ea9cbb6e",
   "metadata": {},
   "outputs": [],
   "source": [
    "# Remove \"Sonstige\" from the dataset,since we are interested in the german states\n",
    "df = df[~(df[\"Land\"] ==\"Sonstige\")]\n",
    "df"
   ]
  },
  {
   "cell_type": "code",
   "execution_count": null,
   "id": "4e688391-53e1-4585-96a0-2b510c845ef1",
   "metadata": {},
   "outputs": [],
   "source": [
    "df ['Kraftstoffart'].value_counts()"
   ]
  },
  {
   "cell_type": "code",
   "execution_count": null,
   "id": "34a535a2-d292-4318-bda6-d7beae33876f",
   "metadata": {},
   "outputs": [],
   "source": [
    "df = df.rename(columns ={'Land':'land', 'Kraftstoffart':'fuel', 'Kraftfahrzeuge \\ninsgesamt': 'total_cars', 'Year':'year'})\n",
    "df"
   ]
  },
  {
   "cell_type": "code",
   "execution_count": null,
   "id": "41ca8143-f0b2-47dd-a1da-12cbb00da24f",
   "metadata": {},
   "outputs": [],
   "source": [
    "# harmonize the types of \"fuel\"\n",
    "\n",
    "fuel_type_mapping = {\n",
    " 'Benzin': 'Benzin', \n",
    " 'Diesel': 'Diesel', \n",
    " 'Gas insgesamt': 'Gas', \n",
    " 'Hybrid insgesamt': 'Hybrid total', \n",
    " 'Sonstige': 'Sonstige',\n",
    " 'Elektro (BEV)': 'Electric', \n",
    " 'Elektro': 'Electric', \n",
    " 'darunter Plug-in': 'Plug-in Hybrid',\n",
    " '  darunter Plug-in': 'Plug-in Hybrid'  \n",
    " }\n",
    "\n",
    "df['fuel'] = df['fuel'].replace(fuel_type_mapping)\n",
    "df[\"fuel\"].value_counts()\n"
   ]
  },
  {
   "cell_type": "code",
   "execution_count": null,
   "id": "dbd2825a-cec8-4b69-9a7f-a6f21b62056d",
   "metadata": {},
   "outputs": [],
   "source": [
    "df.head()"
   ]
  },
  {
   "cell_type": "code",
   "execution_count": null,
   "id": "631d3562-5c2c-4607-97d6-e1c127cf7815",
   "metadata": {},
   "outputs": [],
   "source": [
    "# one df for deutschland\n",
    "df_germany = df [df [\"land\"] ==\"Deutschland\"].reset_index()\n",
    "df_germany.head(8)"
   ]
  },
  {
   "cell_type": "code",
   "execution_count": null,
   "id": "68025014-f582-4ec2-aba1-209518e5a9c7",
   "metadata": {},
   "outputs": [],
   "source": [
    "df_states = df [~(df [\"land\"] ==\"Deutschland\")].reset_index()\n",
    "df_states"
   ]
  },
  {
   "cell_type": "code",
   "execution_count": null,
   "id": "6c1111ae-1896-4a5d-a011-3d37cd656e85",
   "metadata": {},
   "outputs": [],
   "source": [
    "# we consider electric and hybrid as electrical, since they all use the charging stations\n",
    "electric_types = [\"Electric\", \"Plug-in Hybrid\"]\n",
    "\n",
    "# filter the electrical vehicles\n",
    "eautos = df_germany [df_germany[\"fuel\"].isin(electric_types)]\n",
    "# summs the electrical vehicles\n",
    "e_autos_year = eautos.groupby(\"year\").agg(\n",
    "    number_of_electric_cars=(\"total_cars\", \"sum\")     \n",
    ").reset_index()\n",
    "\n",
    "e_autos_year"
   ]
  },
  {
   "cell_type": "code",
   "execution_count": null,
   "id": "4c19fe86-483e-481b-83fd-47f6bdb657f6",
   "metadata": {},
   "outputs": [],
   "source": [
    "charging_stations_germany = pd.read_csv('./clean_data/stations_germany.csv', usecols= ['number_of_charging_points', 'year'])\n",
    "\n",
    "charging_stations_germany = charging_stations_germany [charging_stations_germany[\"year\"] > 2018]\n",
    "\n",
    "charging_stations_germany = charging_stations_germany.merge(e_autos_year, on = \"year\", how = \"left\")\n",
    "\n",
    "charging_stations_germany"
   ]
  },
  {
   "cell_type": "code",
   "execution_count": null,
   "id": "c97d6f91-4a14-4b9a-b8c2-ad357e45a477",
   "metadata": {},
   "outputs": [],
   "source": [
    "plt.figure(figsize=(8, 6))\n",
    "sns.lineplot(data = charging_stations_germany, x ='year', y ='number_of_charging_points', label='Charging Stations', color = \"blue\")\n",
    "sns.lineplot(data = charging_stations_germany, x ='year', y = 'number_of_electric_cars', label='Electric Cars', color = \"limegreen\")\n",
    "sns.despine()\n",
    "\n",
    "plt.xlabel('Year')\n",
    "plt.ylabel('Count')\n",
    "\n",
    "\n",
    "plt.title('Growth of Charging Stations vs Electric Cars')\n",
    "\n",
    "# Move legend outside\n",
    "plt.legend(title=\"Charging points x Electric cars\", bbox_to_anchor=(1.05, 1), loc=\"upper left\")\n",
    "plt.show()\n"
   ]
  },
  {
   "cell_type": "code",
   "execution_count": null,
   "id": "0b24fe1e-7738-40cd-ac5e-44438b0c2087",
   "metadata": {},
   "outputs": [],
   "source": [
    "import pandas as pd\n",
    "import matplotlib.pyplot as plt\n",
    "\n",
    "# Assuming your DataFrame is called df\n",
    "# and has columns: 'year', 'number of electric cars', 'total number of cars'\n",
    "\n",
    "# Sort by year in case it's not sorted\n",
    "df = df.sort_values('year')\n",
    "\n",
    "# Compute the number of new cars and new electric cars per year\n",
    "df['new_total_cars'] = df['total_number_of_cars'].diff()\n",
    "df['new_electric_cars'] = df['number_of_electric_cars'].diff()\n",
    "\n",
    "# Compute percentage of new electric cars\n",
    "df['percent_new_electric'] = (df['new_electric_cars'] / df['new_total_cars']) * 100\n",
    "\n",
    "# Drop the first row with NaN from diff\n",
    "df = df.dropna()\n",
    "\n",
    "# Plotting\n",
    "plt.figure(figsize=(10, 6))\n",
    "plt.plot(df['year'], df['percent_new_electric'], marker='o')\n",
    "plt.title('Percentage of New Electric Cars per Year')\n",
    "plt.xlabel('Year')\n",
    "plt.ylabel('Percentage (%)')\n",
    "plt.grid(True)\n",
    "plt.show()\n"
   ]
  },
  {
   "cell_type": "code",
   "execution_count": null,
   "id": "95752057-2f3d-4a4d-a7d8-5811a3b07cac",
   "metadata": {},
   "outputs": [],
   "source": [
    "import pandas as pd\n",
    "import matplotlib.pyplot as plt\n",
    "from sklearn.linear_model import LinearRegression\n",
    "import numpy as np\n",
    "\n",
    "df = charging_stations_germany\n",
    "\n",
    "# Train linear regression on year vs number_of_electric_cars\n",
    "X = df[['year']]\n",
    "y = df['number_of_electric_cars']\n",
    "\n",
    "model = LinearRegression()\n",
    "model.fit(X, y)\n",
    "\n",
    "# Predict up to 2030\n",
    "future_years = np.arange(2019, 2031).reshape(-1, 1)\n",
    "future_predictions = model.predict(future_years)\n",
    "\n",
    "# Plotting\n",
    "plt.figure(figsize=(10, 6))\n",
    "plt.plot(df['year'], df['number_of_electric_cars'], 'o', label='Actual')\n",
    "plt.plot(future_years.flatten(), future_predictions, '-', label='Predicted')\n",
    "\n",
    "plt.title(\"Linear Regression: Number of Electric Cars until 2030\")\n",
    "plt.xlabel(\"Year\")\n",
    "plt.ylabel(\"Number of Electric Cars\")\n",
    "plt.grid(True)\n",
    "plt.legend()\n",
    "plt.tight_layout()\n",
    "plt.show()\n"
   ]
  },
  {
   "cell_type": "code",
   "execution_count": null,
   "id": "b62290f6-1154-4f51-baf1-e19120dc1b18",
   "metadata": {},
   "outputs": [],
   "source": [
    "from sklearn.linear_model import LinearRegression\n",
    "from sklearn.preprocessing import PolynomialFeatures\n",
    "from matplotlib.ticker import ScalarFormatter\n",
    "\n",
    "from matplotlib.ticker import FuncFormatter\n",
    "\n",
    "# Function to convert large numbers to 'M' format\n",
    "def millions_formatter(x, pos):\n",
    "    return f'{x*1e-6:.1f}M' if x >= 1e6 else f'{int(x)}'\n",
    "    \n",
    "\n",
    "df = charging_stations_germany\n",
    "\n",
    "# Set up polynomial regression (degree 2)\n",
    "poly = PolynomialFeatures(degree=2)\n",
    "X_poly = poly.fit_transform(df[['year']])\n",
    "y = df['number_of_electric_cars']\n",
    "\n",
    "model = LinearRegression()\n",
    "model.fit(X_poly, y)\n",
    "\n",
    "# Predict up to 2030\n",
    "future_years = np.arange(2019, 2031).reshape(-1, 1)\n",
    "future_X_poly = poly.transform(future_years)\n",
    "future_predictions = model.predict(future_X_poly)\n",
    "\n",
    "# Plotting\n",
    "plt.figure(figsize=(10, 6))\n",
    "plt.plot(df['year'], df['number_of_electric_cars'], 'o', label='Actual')\n",
    "plt.plot(future_years.flatten(), future_predictions, '-', label='Polynomial Fit (degree=2)')\n",
    "\n",
    "plt.gca().yaxis.set_major_formatter(FuncFormatter(millions_formatter))\n",
    "\n",
    "plt.title(\"Polynomial Regression: Number of Electric Cars until 2030\")\n",
    "plt.xlabel(\"Year\")\n",
    "plt.ylabel(\"Number of Electric Cars\")\n",
    "plt.grid(True)\n",
    "plt.legend()\n",
    "plt.tight_layout()\n",
    "plt.show()"
   ]
  },
  {
   "cell_type": "code",
   "execution_count": null,
   "id": "d3045386-39f6-47ab-85b2-901b47a0aaac",
   "metadata": {},
   "outputs": [],
   "source": [
    "# Create the scatter plot\n",
    "plt.figure(figsize=(8, 6))\n",
    "plt.scatter(charging_stations_germany['number_of_electric_cars'], charging_stations_germany['number_of_charging_points'], color='green')\n",
    "plt.title('Correlation between Electric Cars and Charging Points')\n",
    "plt.xlabel('Number of Electric Cars')\n",
    "plt.ylabel('Number of Charging Points')\n",
    "plt.grid(True)\n",
    "plt.tight_layout()\n",
    "plt.show()"
   ]
  },
  {
   "cell_type": "code",
   "execution_count": null,
   "id": "8103abe6-9927-45fe-be0b-43cefa36d357",
   "metadata": {},
   "outputs": [],
   "source": [
    "correlation = charging_stations_germany['number_of_electric_cars'].corr(charging_stations_germany['number_of_charging_points'])\n",
    "print(f'Correlation: {correlation:.2f}')"
   ]
  },
  {
   "cell_type": "code",
   "execution_count": null,
   "id": "2c599526-1611-4e5b-8a0f-143556e65ed9",
   "metadata": {},
   "outputs": [],
   "source": [
    "# Set the plot style\n",
    "sns.set_style(\"whitegrid\")\n",
    "\n",
    "# excludes total, as it includes all the fuel types\n",
    "df_germany_filtered = df_germany[~(df_germany[\"fuel\"].isin([\"Total\",\"Sonstige\"]))]\n",
    "\n",
    "# Pivot the data to get years on x-axis and fuel types as separate lines\n",
    "plt.figure(figsize=(12, 6))\n",
    "sns.lineplot(data=df_germany_filtered, x=\"year\", y=\"total_cars\", palette = colors_fuel, hue=\"fuel\", marker=\"o\")\n",
    "\n",
    "# Access the axes\n",
    "ax = plt.gca()\n",
    "\n",
    "# Turn off scientific notation\n",
    "ax.ticklabel_format(style='plain', axis='y')\n",
    "\n",
    "# Format ticks with commas\n",
    "ax.yaxis.set_major_formatter(ticker.FuncFormatter(lambda x, _: f'{int(x):,}'.replace(',', '.')))\n",
    "\n",
    "# Labels and title\n",
    "plt.xlabel(\"Year\")\n",
    "plt.ylabel(\"Number of Cars\")\n",
    "plt.title(\"Cars Over Years (2019-2025) in Germany\")\n",
    "\n",
    "# Move legend outside\n",
    "plt.legend(title=\"Fuel Type\", bbox_to_anchor=(1.05, 1), loc=\"upper left\")\n",
    "\n",
    "# Adjust layout to fit legend\n",
    "plt.tight_layout()\n",
    "plt.show()"
   ]
  },
  {
   "cell_type": "code",
   "execution_count": null,
   "id": "92b1aab1-f669-47e8-98d7-ca4f1e1c68d4",
   "metadata": {},
   "outputs": [],
   "source": [
    "import matplotlib.ticker as ticker\n",
    "\n",
    "# here we consider pure electrical and plug-in hybrids as electrical cars\n",
    "df_electric = df_germany[df_germany[\"fuel\"].isin([\"Electric\", \"Plug-in Hybrid\"])]\n",
    "\n",
    "# Set the plot style\n",
    "sns.set_style(\"whitegrid\")\n",
    "\n",
    "\n",
    "# Pivot the data to get years on x-axis and fuel types as separate lines\n",
    "plt.figure(figsize=(12, 6))\n",
    "\n",
    "# Access the axes\n",
    "ax = plt.gca()\n",
    "\n",
    "# Turn off scientific notation\n",
    "ax.ticklabel_format(style='plain', axis='y')\n",
    "\n",
    "# Format ticks with commas\n",
    "ax.yaxis.set_major_formatter(ticker.FuncFormatter(lambda x, _: f'{int(x):,}'.replace(',', '.')))\n",
    "\n",
    "\n",
    "sns.lineplot(data=df_electric, x=\"year\", y=\"total_cars\", palette = colors_fuel, hue=\"fuel\", marker=\"o\", ax = ax)\n",
    "\n",
    "# Labels and title\n",
    "plt.xlabel(\"Year\")\n",
    "plt.ylabel(\"Number of Cars\")\n",
    "plt.title(\"Electrict Vehicles in Germany over the Years (2019-2025)\")\n",
    "\n",
    "# Move legend outside\n",
    "plt.legend(title=\"Fuel Type\", bbox_to_anchor=(1.05, 1), loc=\"upper left\")\n",
    "\n",
    "# Adjust layout to fit legend\n",
    "plt.tight_layout()\n",
    "plt.show()"
   ]
  },
  {
   "cell_type": "code",
   "execution_count": null,
   "id": "7ecfc991-d040-495a-96af-d0a38ac7ffcf",
   "metadata": {},
   "outputs": [],
   "source": [
    "# Remove \"Deutschland\" from the dataset, as it contains aggregations\n",
    "df_states = df[~(df[\"land\"] ==\"Deutschland\")]\n",
    "df_states"
   ]
  },
  {
   "cell_type": "code",
   "execution_count": null,
   "id": "a9aa21d5-e062-4546-9315-7a8743bb52ba",
   "metadata": {},
   "outputs": [],
   "source": [
    "df_states.to_csv('./clean_data/cars_based_on_fuel_per_year.csv',  index=False)"
   ]
  },
  {
   "cell_type": "markdown",
   "id": "5b19f352-7e40-433c-a3a6-65d01cb6bfdd",
   "metadata": {},
   "source": [
    "Since we are only interested in E-Autos and the rest, we will convert the data again"
   ]
  },
  {
   "cell_type": "code",
   "execution_count": null,
   "id": "c85b0ac8-3c8d-4853-bfaf-424057f38bd0",
   "metadata": {},
   "outputs": [],
   "source": [
    "fuel_type_mapping2 = {\n",
    " 'Benzin': 'Others', \n",
    " 'Diesel': 'Others', \n",
    " 'Gas': 'Others',  \n",
    " 'Sonstige': 'Others',\n",
    " 'Hybrid': 'Others',  \n",
    " 'Electric': 'Electric',\n",
    " 'Hybrid E': 'Plug-in Hybrid'  \n",
    " }\n",
    "\n",
    "df_states['fuel'] = df_states['fuel'].replace(fuel_type_mapping2)\n",
    "df_states[\"fuel\"].value_counts()"
   ]
  },
  {
   "cell_type": "code",
   "execution_count": null,
   "id": "c7a4d71d-ba5f-43e4-9cae-d1fef43ceff6",
   "metadata": {},
   "outputs": [],
   "source": [
    "df_states.to_csv('./clean_data/cars_based_on_fuel_per_year_filtered.csv',  index=False)"
   ]
  },
  {
   "cell_type": "code",
   "execution_count": null,
   "id": "cde64982-a70a-4837-89f5-d0e0d855fcbe",
   "metadata": {},
   "outputs": [],
   "source": [
    "# Filter data for 2025\n",
    "df_2025 = df_states[df_states[\"year\"] == 2025]\n",
    "\n",
    "# Sort by total number of cars for better visualization\n",
    "df_2025 = df_2025.sort_values(by=\"total_cars\", ascending=False)\n",
    "\n",
    "# Create the bar plot\n",
    "plt.figure(figsize=(12, 6))\n",
    "sns.barplot(data=df_2025, x=\"total_cars\", y=\"land\", palette=german_states_colors)\n",
    "\n",
    "# Labels and title\n",
    "plt.xlabel(\"Total Cars\")\n",
    "plt.ylabel(\"Land\")\n",
    "plt.title(\"Total Number of Cars per State (2025)\")\n",
    "\n",
    "# Show the plot\n",
    "plt.show()\n"
   ]
  },
  {
   "cell_type": "code",
   "execution_count": null,
   "id": "f3da789f-082c-4461-96f6-4cf0252cf0cf",
   "metadata": {},
   "outputs": [],
   "source": [
    "df_states['fuel'].value_counts()\n"
   ]
  },
  {
   "cell_type": "code",
   "execution_count": null,
   "id": "d1e73b09-fd88-4138-951c-17f69a30413a",
   "metadata": {},
   "outputs": [],
   "source": [
    "# Filter data for 2025\n",
    "df_2025 = df_states[df_states[\"year\"] == 2025]\n",
    "\n",
    "# Pivot table to get total cars by fuel type for each Land\n",
    "df_pivot = df_2025.pivot_table(index=\"land\", columns=\"fuel\", values=\"total_cars\", aggfunc=\"sum\")\n",
    "\n",
    "# Sort by total number of cars for better visualization\n",
    "df_pivot = df_pivot.sort_values(by=\"Total\", ascending=True)\n",
    "\n",
    "# Handle missing values (if some states don't have electric cars)\n",
    "df_pivot = df_pivot.fillna(0)\n",
    "\n",
    "# Compute non-electric cars\n",
    "df_pivot[\"Non_Electric\"] = df_pivot[\"Total\"] - df_pivot[\"Electric\"]\n",
    "\n",
    "# Plot stacked bar chart\n",
    "plt.figure(figsize=(12, 6))\n",
    "\n",
    "plt.barh(df_pivot.index, df_pivot[\"Non_Electric\"], color=\"lightgray\", label=\"Other Fuels\")\n",
    "plt.barh(df_pivot.index, df_pivot[\"Electric\"], left=df_pivot[\"Non_Electric\"], color=\"#81E552\", label=\"Electric\")\n",
    "\n",
    "# Labels and title\n",
    "plt.xlabel(\"Total Cars (in 10 milions)\")\n",
    "plt.ylabel(\"State\")\n",
    "plt.title(\"Total Number of Cars per State (2025)\")\n",
    "plt.legend()\n",
    "\n",
    "# Show the plot\n",
    "plt.show()\n",
    "\n"
   ]
  },
  {
   "cell_type": "markdown",
   "id": "ad31769f-b285-47ef-abc1-36fd01477237",
   "metadata": {},
   "source": [
    "### Creates a new dataframe"
   ]
  },
  {
   "cell_type": "markdown",
   "id": "da9243cd-018e-44cd-9814-f541621b4a1f",
   "metadata": {},
   "source": [
    "Creates a Dataframe with the information about the year 2025"
   ]
  },
  {
   "cell_type": "code",
   "execution_count": null,
   "id": "fe745b65-2893-464d-97f2-d88a9317213b",
   "metadata": {},
   "outputs": [],
   "source": [
    "autos_2025 = df_states [df_states[\"year\"] == 2025]\n",
    "autos_2025.rename(columns = {\"land\":\"state\"}, inplace=True)\n",
    "\n",
    "# we consider electric and hybrid as electrical, since they all use the charging stations\n",
    "electric_types = [\"Electric\", \"Plug-in Hybrid\"]\n",
    "\n",
    "# filter the electrical vehicles\n",
    "eautos_2025 = autos_2025[autos_2025[\"fuel\"].isin(electric_types)]\n",
    "# summs the electrical vehicles\n",
    "e_autos_per_state_2025 = eautos_2025.groupby(\"state\").agg(\n",
    "    number_of_electric_cars=(\"total_cars\", \"sum\")     \n",
    ").reset_index()\n",
    "\n",
    "e_autos_per_state_2025.head()\n",
    "\n"
   ]
  },
  {
   "cell_type": "code",
   "execution_count": null,
   "id": "1e8b1cd0-520b-4c69-b877-6e452fb3f546",
   "metadata": {},
   "outputs": [],
   "source": [
    "# filter the total of cars\n",
    "total_cars_2025 = autos_2025 [autos_2025['fuel'] == 'Total']\n",
    "total_cars_2025.drop(columns=['fuel', 'year'], inplace=True)                    \n",
    "                     "
   ]
  },
  {
   "cell_type": "markdown",
   "id": "6fe50dff-4da3-47bf-9ba4-71b5c8a0f74a",
   "metadata": {},
   "source": [
    "Merges the total of electrical cars with the total of cars, and adds a column total of non-electric"
   ]
  },
  {
   "cell_type": "code",
   "execution_count": null,
   "id": "a0c1c7cc-d60f-4e8d-80fb-1f5de6ac7551",
   "metadata": {},
   "outputs": [],
   "source": [
    "autos_state_2025 = e_autos_per_state_2025.merge(total_cars_2025, on = \"state\", how=\"left\")\n",
    "autos_state_2025\n"
   ]
  },
  {
   "cell_type": "code",
   "execution_count": null,
   "id": "32ca8bd4-fd4e-49da-b8f6-b6ae2caf9a5b",
   "metadata": {},
   "outputs": [],
   "source": [
    "autos_state_2025['number_non_electric_cars'] = autos_state_2025['total_cars'] - autos_state_2025['number_of_electric_cars']\n",
    "autos_state_2025.rename (columns = {'total_cars':'number_cars'}, inplace = True)\n",
    "autos_state_2025\n"
   ]
  },
  {
   "cell_type": "code",
   "execution_count": null,
   "id": "69065d90-486f-4652-81a0-6631f113078a",
   "metadata": {},
   "outputs": [],
   "source": [
    "autos_state_2025.to_csv(\"./clean_data/autos_state_2025.csv\", index = False)"
   ]
  },
  {
   "cell_type": "code",
   "execution_count": null,
   "id": "905cd35e-39f2-4e77-b803-dab550b6eb7c",
   "metadata": {},
   "outputs": [],
   "source": [
    "def plot_stacked_bar_for_state(df, land, colors):\n",
    "    \"\"\"\n",
    "    Creates a stacked bar plot showing the number of electric vs. other fuel cars over different years for a given Land.\n",
    "\n",
    "    Parameters:\n",
    "        df (pd.DataFrame): The dataset containing columns 'Land', 'Fuel', 'Total cars', and 'Year'.\n",
    "        land (str): The name of the Land (state) to visualize.\n",
    "        german_states_colors (dict): A dictionary mapping German states to colors.\n",
    "    \"\"\"\n",
    "\n",
    "    # Filter data for the selected Land\n",
    "    df_land = df[df[\"land\"] == land]\n",
    "\n",
    "    # Pivot table to get fuel types as columns and years as index\n",
    "    df_pivot = df_land.pivot_table(index=\"year\", columns=\"fuel\", values=\"total_cars\", aggfunc=\"sum\")\n",
    "\n",
    "    # Handle missing values (if some years don't have electric cars)\n",
    "    df_pivot = df_pivot.fillna(0)\n",
    "\n",
    "    # Compute non-electric cars\n",
    "    df_pivot[\"Non_Electric\"] = df_pivot[\"Total\"] - df_pivot[\"Electric\"]\n",
    "\n",
    "    # Create figure\n",
    "    plt.figure(figsize=(10, 6))\n",
    "    \n",
    "    # Set bar width\n",
    "    bar_width = 0.5  # Adjusted from default 0.8 to make bars slimmer\n",
    "    \n",
    "    # Plot \"Non_Electric\" in the state's assigned color\n",
    "    plt.bar(df_pivot.index, df_pivot[\"Non_Electric\"], color=german_states_colors.get(land, \"black\"), label=\"Other Fuels\", width=bar_width)\n",
    "\n",
    "    # Plot \"Electric\" on top in gray\n",
    "    plt.bar(df_pivot.index, df_pivot[\"Electric\"], bottom=df_pivot[\"Non_Electric\"], color=\"gray\", label=\"Electric\", width=bar_width)\n",
    "\n",
    "\n",
    "    # Add text labels for electric percentage\n",
    "    for year in df_pivot.index:\n",
    "        total = df_pivot.loc[year, \"Total\"]\n",
    "        electric = df_pivot.loc[year, \"Electric\"]\n",
    "        percent = (electric / total) * 100 if total > 0 else 0\n",
    "\n",
    "        plt.text(year, total * 1.02, f\"{percent:.1f}%\", ha='center', fontsize=10, color=\"black\")\n",
    "\n",
    "    # Labels and title\n",
    "    plt.xlabel(\"Year\")\n",
    "    plt.ylabel(\"Total Cars\")\n",
    "    plt.title(f\"Electric vs Other Cars in {land} Over the Years\")\n",
    "    plt.xticks(df_pivot.index)  # Ensure all years are shown\n",
    "    plt.legend()\n",
    "\n",
    "    # Show the plot\n",
    "    plt.show()\n"
   ]
  },
  {
   "cell_type": "code",
   "execution_count": null,
   "id": "f7d79bf2-bbf1-45c8-bfd3-06cd2423f961",
   "metadata": {},
   "outputs": [],
   "source": [
    "plot_stacked_bar_for_state(df = df_states, land ='Bayern', colors= german_states_colors)"
   ]
  },
  {
   "cell_type": "code",
   "execution_count": null,
   "id": "7248dd42-5c15-43fa-bd5f-2089ec9dcd8c",
   "metadata": {},
   "outputs": [],
   "source": [
    "plot_stacked_bar_for_state(df = df_states, land ='Nordrhein-Westfalen', colors= german_states_colors)"
   ]
  },
  {
   "cell_type": "code",
   "execution_count": null,
   "id": "5998e6b4-1083-4a54-986d-e76a8c533958",
   "metadata": {},
   "outputs": [],
   "source": [
    "import matplotlib.pyplot as plt\n",
    "\n",
    "def plot_line_chart_for_state(df, land, colors):\n",
    "    \"\"\"\n",
    "    Creates a line chart showing the number of electric vs. other fuel cars over different years for a given Land.\n",
    "\n",
    "    Parameters:\n",
    "        df (pd.DataFrame): The dataset containing columns 'Land', 'Fuel', 'Total cars', and 'Year'.\n",
    "        land (str): The name of the Land (state) to visualize.\n",
    "        colors (dict): A dictionary mapping fuel types to colors for the line chart.\n",
    "    \"\"\"\n",
    "\n",
    "    # Filter data for the selected Land\n",
    "    df_land = df[df[\"land\"] == land]\n",
    "\n",
    "    # Pivot table to get fuel types as columns and years as index\n",
    "    df_pivot = df_land.pivot_table(index=\"year\", columns=\"fuel\", values=\"total_cars\", aggfunc=\"sum\")\n",
    "\n",
    "    # Handle missing values (if some years don't have electric cars)\n",
    "    df_pivot = df_pivot.fillna(0)\n",
    "\n",
    "    # Compute non-electric cars\n",
    "    if \"Electric\" in df_pivot.columns:\n",
    "        df_pivot[\"Non_Electric\"] = df_pivot[\"Total\"] - df_pivot[\"Electric\"]\n",
    "    else:\n",
    "        df_pivot[\"Non_Electric\"] = df_pivot[\"Total\"]  # If no electric data exists, assume all cars are non-electric\n",
    "\n",
    "    # Create figure\n",
    "    plt.figure(figsize=(10, 6))\n",
    "\n",
    "    # Plot line chart for \"Non_Electric\" cars\n",
    "    plt.plot(df_pivot.index, df_pivot[\"Non_Electric\"], color=german_states_colors.get(land, \"black\"), label=\"Other Fuels\", marker='o')\n",
    "\n",
    "    # Plot line chart for \"Electric\" cars\n",
    "    plt.plot(df_pivot.index, df_pivot[\"Electric\"], color=\"gray\", label=\"Electric\", marker='o')\n",
    "\n",
    "    # Add text labels for electric percentage on each point\n",
    "    for year in df_pivot.index:\n",
    "        total = df_pivot.loc[year, \"Total\"]\n",
    "        electric = df_pivot.loc[year, \"Electric\"]\n",
    "        percent = (electric / total) * 100 if total > 0 else 0\n",
    "        plt.text(year, electric + 0.05 * total, f\"{percent:.1f}%\", ha='center', fontsize=10, color=\"black\")\n",
    "\n",
    "    # Labels and title\n",
    "    plt.xlabel(\"Year\")\n",
    "    plt.ylabel(\"Total Cars\")\n",
    "    plt.title(f\"Electric vs Other Cars in {land} Over the Years\")\n",
    "    plt.xticks(df_pivot.index)  # Ensure all years are shown\n",
    "    plt.legend()\n",
    "\n",
    "    # Show the plot\n",
    "    plt.show()\n"
   ]
  },
  {
   "cell_type": "code",
   "execution_count": null,
   "id": "5a160b9c-cb7b-468f-8f0f-f76e6446526b",
   "metadata": {},
   "outputs": [],
   "source": [
    "plot_line_chart_for_state(df = df_states, land ='Nordrhein-Westfalen', colors= german_states_colors)"
   ]
  },
  {
   "cell_type": "code",
   "execution_count": null,
   "id": "b143866f-3cbd-419e-876b-b5d0132c4a56",
   "metadata": {},
   "outputs": [],
   "source": [
    "plot_line_chart_for_state(df = df_states, land ='Bayern', colors= german_states_colors)"
   ]
  },
  {
   "cell_type": "code",
   "execution_count": null,
   "id": "cf74052e-c7ea-410e-af06-398030fd0f80",
   "metadata": {},
   "outputs": [],
   "source": [
    "# Filter for electric and plug-in hybrid cars\n",
    "electric_types = [\"Electric\", \"Plug-in Hybrid\"]\n",
    "df_total_electric = df_states[df_states[\"fuel\"].isin(electric_types)]\n",
    "\n",
    "# Group by land and year to get total electric cars\n",
    "electric_summary = df_total_electric.groupby([\"land\", \"year\"])[\"total_cars\"].sum().reset_index()\n",
    "electric_summary.rename(columns={\"total_cars\": \"total_electric\"}, inplace=True)\n",
    "\n"
   ]
  },
  {
   "cell_type": "code",
   "execution_count": null,
   "id": "46d7b9b1-7cec-4f33-92aa-4fc40590f2d6",
   "metadata": {},
   "outputs": [],
   "source": [
    "# Check for rows where the fuel column is \"Total\"\n",
    "df_total_flag = df_states[df_states[\"fuel\"].str.lower() == \"total\"]\n",
    "\n",
    "# Keep only these rows as the actual total per state/year\n",
    "total_cars_summary_corrected = df_total_flag[[\"land\", \"year\", \"total_cars\"]].copy()\n",
    "total_cars_summary_corrected.rename(columns={\"total_cars\": \"total_all\"}, inplace=True)\n",
    "\n",
    "# Reuse the already computed total electric (electric + plug-in hybrid)\n",
    "# electric_summary is already grouped by land and year\n",
    "# Merge with the corrected total cars\n",
    "merged_df_corrected = pd.merge(total_cars_summary_corrected, electric_summary, on=[\"land\", \"year\"], how=\"left\")\n",
    "merged_df_corrected[\"total_electric\"] = merged_df_corrected[\"total_electric\"].fillna(0).astype(int)\n",
    "merged_df_corrected[\"total_non_electric\"] = merged_df_corrected[\"total_all\"] - merged_df_corrected[\"total_electric\"]\n",
    "\n",
    "# Select and reorder columns\n",
    "final_df_corrected = merged_df_corrected[[\"land\", \"total_electric\", \"total_non_electric\", \"year\"]]\n",
    "\n",
    "final_df_corrected.head()\n"
   ]
  },
  {
   "cell_type": "code",
   "execution_count": null,
   "id": "9c1a0d55-ee8b-4f94-b36b-e132d65f7609",
   "metadata": {},
   "outputs": [],
   "source": [
    "final_df_corrected.shape"
   ]
  },
  {
   "cell_type": "code",
   "execution_count": null,
   "id": "89f4f8a7-841c-4c43-987a-98fdf062202e",
   "metadata": {},
   "outputs": [],
   "source": [
    "# Set plot style\n",
    "sns.set(style=\"whitegrid\")\n",
    "\n",
    "# Melt the DataFrame to long format for plotting\n",
    "plot_df = final_df_corrected.melt(id_vars=[\"land\", \"year\"],\n",
    "                                  value_vars=[\"total_electric\", \"total_non_electric\"],\n",
    "                                  var_name=\"Type\",\n",
    "                                  value_name=\"Count\")\n",
    "\n",
    "# Create a color palette\n",
    "palette = {\"total_electric\": \"green\", \"total_non_electric\": \"gray\"}\n",
    "\n",
    "# Plot: Evolution per year (aggregated across all states)\n",
    "plt.figure(figsize=(12, 6))\n",
    "sns.barplot(data=plot_df, x=\"year\", y=\"Count\", hue=\"Type\", estimator=sum, palette=palette)\n",
    "\n",
    "plt.title(\"Electric vs Non-Electric Car Count Evolution in Germany\")\n",
    "plt.ylabel(\"Total Number of Cars\")\n",
    "plt.xlabel(\"Year\")\n",
    "plt.legend(title=\"Vehicle Type\", labels=[\"Electric + Plug-in Hybrid\", \"Other\"], bbox_to_anchor=(1.05, 1), loc=\"upper left\")\n",
    "plt.tight_layout()\n",
    "plt.show()"
   ]
  },
  {
   "cell_type": "code",
   "execution_count": null,
   "id": "7b725ca7-dd4e-43ea-8157-88fe66c68ef6",
   "metadata": {},
   "outputs": [],
   "source": []
  },
  {
   "cell_type": "code",
   "execution_count": null,
   "id": "31f2bde1-2d1d-4e16-9fb9-bc6be05a5b5f",
   "metadata": {},
   "outputs": [],
   "source": []
  }
 ],
 "metadata": {
  "kernelspec": {
   "display_name": "Python 3 (ipykernel)",
   "language": "python",
   "name": "python3"
  },
  "language_info": {
   "codemirror_mode": {
    "name": "ipython",
    "version": 3
   },
   "file_extension": ".py",
   "mimetype": "text/x-python",
   "name": "python",
   "nbconvert_exporter": "python",
   "pygments_lexer": "ipython3",
   "version": "3.12.8"
  }
 },
 "nbformat": 4,
 "nbformat_minor": 5
}
