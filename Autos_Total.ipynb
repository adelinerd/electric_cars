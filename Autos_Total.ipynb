{
 "cells": [
  {
   "cell_type": "markdown",
   "id": "04194cec-5426-4c23-8940-677aa8e58d2f",
   "metadata": {},
   "source": [
    "## Environment Setup"
   ]
  },
  {
   "cell_type": "code",
   "execution_count": 1,
   "id": "30c82bc5-803b-4c94-9c1d-7078882b8de9",
   "metadata": {},
   "outputs": [
    {
     "data": {
      "text/html": [
       "        <script type=\"text/javascript\">\n",
       "        window.PlotlyConfig = {MathJaxConfig: 'local'};\n",
       "        if (window.MathJax && window.MathJax.Hub && window.MathJax.Hub.Config) {window.MathJax.Hub.Config({SVG: {font: \"STIX-Web\"}});}\n",
       "        if (typeof require !== 'undefined') {\n",
       "        require.undef(\"plotly\");\n",
       "        requirejs.config({\n",
       "            paths: {\n",
       "                'plotly': ['https://cdn.plot.ly/plotly-2.34.0.min']\n",
       "            }\n",
       "        });\n",
       "        require(['plotly'], function(Plotly) {\n",
       "            window._Plotly = Plotly;\n",
       "        });\n",
       "        }\n",
       "        </script>\n",
       "        "
      ]
     },
     "metadata": {},
     "output_type": "display_data"
    }
   ],
   "source": [
    "import pandas as pd\n",
    "pd.options.mode.chained_assignment = None\n",
    "\n",
    "import numpy as np\n",
    "import seaborn as sns\n",
    "import matplotlib.pyplot as plt\n",
    "import plotly.express as px\n",
    "\n",
    "import warnings\n",
    "warnings.filterwarnings('ignore')\n",
    "\n",
    "\n",
    "import sys\n",
    "sys.path.insert (0, './_functions_/')\n",
    "from functions_eda import *"
   ]
  },
  {
   "cell_type": "markdown",
   "id": "5d24a067-0020-4b5f-932b-58d346ed95fa",
   "metadata": {},
   "source": [
    "## Datasets"
   ]
  },
  {
   "cell_type": "code",
   "execution_count": 2,
   "id": "a9843c00-a90d-478a-941b-0eee0a950c4b",
   "metadata": {},
   "outputs": [
    {
     "data": {
      "text/html": [
       "<div>\n",
       "<style scoped>\n",
       "    .dataframe tbody tr th:only-of-type {\n",
       "        vertical-align: middle;\n",
       "    }\n",
       "\n",
       "    .dataframe tbody tr th {\n",
       "        vertical-align: top;\n",
       "    }\n",
       "\n",
       "    .dataframe thead th {\n",
       "        text-align: right;\n",
       "    }\n",
       "</style>\n",
       "<table border=\"1\" class=\"dataframe\">\n",
       "  <thead>\n",
       "    <tr style=\"text-align: right;\">\n",
       "      <th></th>\n",
       "      <th>fuel_type</th>\n",
       "      <th>pkw</th>\n",
       "      <th>total</th>\n",
       "      <th>year</th>\n",
       "    </tr>\n",
       "  </thead>\n",
       "  <tbody>\n",
       "    <tr>\n",
       "      <th>0</th>\n",
       "      <td>Benzin</td>\n",
       "      <td>31,435,340</td>\n",
       "      <td>36,397,643</td>\n",
       "      <td>2021</td>\n",
       "    </tr>\n",
       "    <tr>\n",
       "      <th>1</th>\n",
       "      <td>Diesel</td>\n",
       "      <td>15,060,124</td>\n",
       "      <td>20,771,561</td>\n",
       "      <td>2021</td>\n",
       "    </tr>\n",
       "    <tr>\n",
       "      <th>2</th>\n",
       "      <td>Gas insgesamt</td>\n",
       "      <td>429,832</td>\n",
       "      <td>465,935</td>\n",
       "      <td>2021</td>\n",
       "    </tr>\n",
       "    <tr>\n",
       "      <th>3</th>\n",
       "      <td>Elektro (BEV)</td>\n",
       "      <td>309,083</td>\n",
       "      <td>358,498</td>\n",
       "      <td>2021</td>\n",
       "    </tr>\n",
       "    <tr>\n",
       "      <th>4</th>\n",
       "      <td>Hybrid insgesamt</td>\n",
       "      <td>1,004,089</td>\n",
       "      <td>1,008,131</td>\n",
       "      <td>2021</td>\n",
       "    </tr>\n",
       "    <tr>\n",
       "      <th>5</th>\n",
       "      <td>darunter Plug-in</td>\n",
       "      <td>279,861</td>\n",
       "      <td>280,149</td>\n",
       "      <td>2021</td>\n",
       "    </tr>\n",
       "    <tr>\n",
       "      <th>6</th>\n",
       "      <td>Sonstige</td>\n",
       "      <td>10,116</td>\n",
       "      <td>18,323</td>\n",
       "      <td>2021</td>\n",
       "    </tr>\n",
       "    <tr>\n",
       "      <th>7</th>\n",
       "      <td>Benzin</td>\n",
       "      <td>31,005,134</td>\n",
       "      <td>36,108,987</td>\n",
       "      <td>2022</td>\n",
       "    </tr>\n",
       "    <tr>\n",
       "      <th>8</th>\n",
       "      <td>Diesel</td>\n",
       "      <td>14,824,262</td>\n",
       "      <td>20,693,907</td>\n",
       "      <td>2022</td>\n",
       "    </tr>\n",
       "    <tr>\n",
       "      <th>9</th>\n",
       "      <td>Gas insgesamt</td>\n",
       "      <td>413,790</td>\n",
       "      <td>453,208</td>\n",
       "      <td>2022</td>\n",
       "    </tr>\n",
       "    <tr>\n",
       "      <th>10</th>\n",
       "      <td>Elektro (BEV)</td>\n",
       "      <td>618,460</td>\n",
       "      <td>683,958</td>\n",
       "      <td>2022</td>\n",
       "    </tr>\n",
       "    <tr>\n",
       "      <th>11</th>\n",
       "      <td>Hybrid insgesamt</td>\n",
       "      <td>1,669,051</td>\n",
       "      <td>1,676,618</td>\n",
       "      <td>2022</td>\n",
       "    </tr>\n",
       "    <tr>\n",
       "      <th>12</th>\n",
       "      <td>darunter Plug-in</td>\n",
       "      <td>565,956</td>\n",
       "      <td>566,553</td>\n",
       "      <td>2022</td>\n",
       "    </tr>\n",
       "    <tr>\n",
       "      <th>13</th>\n",
       "      <td>Sonstige</td>\n",
       "      <td>10,181</td>\n",
       "      <td>18,768</td>\n",
       "      <td>2022</td>\n",
       "    </tr>\n",
       "    <tr>\n",
       "      <th>14</th>\n",
       "      <td>Benzin</td>\n",
       "      <td>30,556,538</td>\n",
       "      <td>35,770,138</td>\n",
       "      <td>2023</td>\n",
       "    </tr>\n",
       "    <tr>\n",
       "      <th>15</th>\n",
       "      <td>Diesel</td>\n",
       "      <td>14,437,489</td>\n",
       "      <td>20,406,474</td>\n",
       "      <td>2023</td>\n",
       "    </tr>\n",
       "    <tr>\n",
       "      <th>16</th>\n",
       "      <td>Gas insgesamt</td>\n",
       "      <td>407,483</td>\n",
       "      <td>448,976</td>\n",
       "      <td>2023</td>\n",
       "    </tr>\n",
       "    <tr>\n",
       "      <th>17</th>\n",
       "      <td>Elektro (BEV)</td>\n",
       "      <td>1,013,009</td>\n",
       "      <td>1,139,734</td>\n",
       "      <td>2023</td>\n",
       "    </tr>\n",
       "    <tr>\n",
       "      <th>18</th>\n",
       "      <td>Hybrid insgesamt</td>\n",
       "      <td>2,337,897</td>\n",
       "      <td>2,348,469</td>\n",
       "      <td>2023</td>\n",
       "    </tr>\n",
       "    <tr>\n",
       "      <th>19</th>\n",
       "      <td>darunter Plug-in</td>\n",
       "      <td>864,712</td>\n",
       "      <td>865,555</td>\n",
       "      <td>2023</td>\n",
       "    </tr>\n",
       "    <tr>\n",
       "      <th>20</th>\n",
       "      <td>Sonstige</td>\n",
       "      <td>10,620</td>\n",
       "      <td>19,333</td>\n",
       "      <td>2023</td>\n",
       "    </tr>\n",
       "    <tr>\n",
       "      <th>21</th>\n",
       "      <td>Benzin</td>\n",
       "      <td>30,235,032</td>\n",
       "      <td>35,546,443</td>\n",
       "      <td>2024</td>\n",
       "    </tr>\n",
       "    <tr>\n",
       "      <th>22</th>\n",
       "      <td>Diesel</td>\n",
       "      <td>14,142,184</td>\n",
       "      <td>20,200,522</td>\n",
       "      <td>2024</td>\n",
       "    </tr>\n",
       "    <tr>\n",
       "      <th>23</th>\n",
       "      <td>Gas insgesamt</td>\n",
       "      <td>391,144</td>\n",
       "      <td>434,262</td>\n",
       "      <td>2024</td>\n",
       "    </tr>\n",
       "    <tr>\n",
       "      <th>24</th>\n",
       "      <td>Elektro (BEV)</td>\n",
       "      <td>1,408,681</td>\n",
       "      <td>1,555,265</td>\n",
       "      <td>2024</td>\n",
       "    </tr>\n",
       "    <tr>\n",
       "      <th>25</th>\n",
       "      <td>Hybrid insgesamt</td>\n",
       "      <td>2,911,262</td>\n",
       "      <td>2,924,897</td>\n",
       "      <td>2024</td>\n",
       "    </tr>\n",
       "    <tr>\n",
       "      <th>26</th>\n",
       "      <td>darunter Plug-in</td>\n",
       "      <td>921,886</td>\n",
       "      <td>922,876</td>\n",
       "      <td>2024</td>\n",
       "    </tr>\n",
       "    <tr>\n",
       "      <th>27</th>\n",
       "      <td>Sonstige</td>\n",
       "      <td>10,382</td>\n",
       "      <td>19,247</td>\n",
       "      <td>2024</td>\n",
       "    </tr>\n",
       "    <tr>\n",
       "      <th>28</th>\n",
       "      <td>Benzin</td>\n",
       "      <td>31,031,021</td>\n",
       "      <td>35,732,397</td>\n",
       "      <td>2019</td>\n",
       "    </tr>\n",
       "    <tr>\n",
       "      <th>29</th>\n",
       "      <td>Diesel</td>\n",
       "      <td>15,153,364</td>\n",
       "      <td>20,591,834</td>\n",
       "      <td>2019</td>\n",
       "    </tr>\n",
       "  </tbody>\n",
       "</table>\n",
       "</div>"
      ],
      "text/plain": [
       "             fuel_type         pkw       total  year\n",
       "0               Benzin  31,435,340  36,397,643  2021\n",
       "1               Diesel  15,060,124  20,771,561  2021\n",
       "2        Gas insgesamt     429,832     465,935  2021\n",
       "3        Elektro (BEV)     309,083     358,498  2021\n",
       "4     Hybrid insgesamt   1,004,089   1,008,131  2021\n",
       "5     darunter Plug-in     279,861     280,149  2021\n",
       "6             Sonstige      10,116      18,323  2021\n",
       "7               Benzin  31,005,134  36,108,987  2022\n",
       "8               Diesel  14,824,262  20,693,907  2022\n",
       "9        Gas insgesamt     413,790     453,208  2022\n",
       "10       Elektro (BEV)     618,460     683,958  2022\n",
       "11    Hybrid insgesamt   1,669,051   1,676,618  2022\n",
       "12    darunter Plug-in     565,956     566,553  2022\n",
       "13            Sonstige      10,181      18,768  2022\n",
       "14              Benzin  30,556,538  35,770,138  2023\n",
       "15              Diesel  14,437,489  20,406,474  2023\n",
       "16       Gas insgesamt     407,483     448,976  2023\n",
       "17       Elektro (BEV)   1,013,009   1,139,734  2023\n",
       "18    Hybrid insgesamt   2,337,897   2,348,469  2023\n",
       "19    darunter Plug-in     864,712     865,555  2023\n",
       "20            Sonstige      10,620      19,333  2023\n",
       "21              Benzin  30,235,032  35,546,443  2024\n",
       "22              Diesel  14,142,184  20,200,522  2024\n",
       "23       Gas insgesamt     391,144     434,262  2024\n",
       "24       Elektro (BEV)   1,408,681   1,555,265  2024\n",
       "25    Hybrid insgesamt   2,911,262   2,924,897  2024\n",
       "26    darunter Plug-in     921,886     922,876  2024\n",
       "27            Sonstige      10,382      19,247  2024\n",
       "28              Benzin  31,031,021  35,732,397  2019\n",
       "29              Diesel  15,153,364  20,591,834  2019"
      ]
     },
     "execution_count": 2,
     "metadata": {},
     "output_type": "execute_result"
    }
   ],
   "source": [
    "df = pd.read_csv('./raw_data/autos_nach_kraftstoff.csv',sep=',')\n",
    "df.head(30)"
   ]
  },
  {
   "cell_type": "code",
   "execution_count": 3,
   "id": "4e688391-53e1-4585-96a0-2b510c845ef1",
   "metadata": {},
   "outputs": [
    {
     "name": "stdout",
     "output_type": "stream",
     "text": [
      "<class 'pandas.core.frame.DataFrame'>\n",
      "RangeIndex: 42 entries, 0 to 41\n",
      "Data columns (total 4 columns):\n",
      " #   Column     Non-Null Count  Dtype \n",
      "---  ------     --------------  ----- \n",
      " 0   fuel_type  42 non-null     object\n",
      " 1   pkw        42 non-null     object\n",
      " 2   total      42 non-null     object\n",
      " 3   year       42 non-null     int64 \n",
      "dtypes: int64(1), object(3)\n",
      "memory usage: 1.4+ KB\n"
     ]
    }
   ],
   "source": [
    "df.info()"
   ]
  },
  {
   "cell_type": "code",
   "execution_count": 4,
   "id": "95562d31-9f7f-4940-ab0c-3748da020bd5",
   "metadata": {},
   "outputs": [
    {
     "data": {
      "text/plain": [
       "Index(['fuel_type', 'pkw', 'total', 'year'], dtype='object')"
      ]
     },
     "execution_count": 4,
     "metadata": {},
     "output_type": "execute_result"
    }
   ],
   "source": [
    "df.columns"
   ]
  },
  {
   "cell_type": "code",
   "execution_count": 5,
   "id": "d2bddfdb-3446-47a8-b062-0725ed47da64",
   "metadata": {},
   "outputs": [
    {
     "data": {
      "text/plain": [
       "fuel_type\n",
       "Benzin                6\n",
       "Diesel                6\n",
       "Gas insgesamt         6\n",
       "Hybrid insgesamt      6\n",
       "Sonstige              6\n",
       "darunter Plug-in      5\n",
       "Elektro (BEV)         4\n",
       "Elektro               2\n",
       "  darunter Plug-in    1\n",
       "Name: count, dtype: int64"
      ]
     },
     "execution_count": 5,
     "metadata": {},
     "output_type": "execute_result"
    }
   ],
   "source": [
    "df['fuel_type'].value_counts()"
   ]
  },
  {
   "cell_type": "code",
   "execution_count": 6,
   "id": "41ca8143-f0b2-47dd-a1da-12cbb00da24f",
   "metadata": {},
   "outputs": [
    {
     "data": {
      "text/plain": [
       "fuel_type\n",
       "Benzin      6\n",
       "Diesel      6\n",
       "Gas         6\n",
       "Electric    6\n",
       "Hybrid      6\n",
       "Hybrid E    6\n",
       "Sonstige    6\n",
       "Name: count, dtype: int64"
      ]
     },
     "execution_count": 6,
     "metadata": {},
     "output_type": "execute_result"
    }
   ],
   "source": [
    "# harmonize the types of \"fuel\"\n",
    "\n",
    "fuel_type_mapping = {\n",
    " 'Benzin': 'Benzin', \n",
    " 'Diesel': 'Diesel', \n",
    " 'Gas insgesamt': 'Gas', \n",
    " 'Hybrid insgesamt': 'Hybrid', \n",
    " 'Sonstige': 'Sonstige',\n",
    " 'Elektro (BEV)': 'Electric', \n",
    " 'Elektro': 'Electric', \n",
    " 'darunter Plug-in': 'Hybrid E',\n",
    " '  darunter Plug-in': 'Hybrid E'  \n",
    " }\n",
    "\n",
    "df['fuel_type'] = df['fuel_type'].replace(fuel_type_mapping)\n",
    "df[\"fuel_type\"].value_counts()\n"
   ]
  },
  {
   "cell_type": "code",
   "execution_count": 7,
   "id": "dbd2825a-cec8-4b69-9a7f-a6f21b62056d",
   "metadata": {},
   "outputs": [
    {
     "data": {
      "text/html": [
       "<div>\n",
       "<style scoped>\n",
       "    .dataframe tbody tr th:only-of-type {\n",
       "        vertical-align: middle;\n",
       "    }\n",
       "\n",
       "    .dataframe tbody tr th {\n",
       "        vertical-align: top;\n",
       "    }\n",
       "\n",
       "    .dataframe thead th {\n",
       "        text-align: right;\n",
       "    }\n",
       "</style>\n",
       "<table border=\"1\" class=\"dataframe\">\n",
       "  <thead>\n",
       "    <tr style=\"text-align: right;\">\n",
       "      <th></th>\n",
       "      <th>fuel_type</th>\n",
       "      <th>pkw</th>\n",
       "      <th>total</th>\n",
       "      <th>year</th>\n",
       "    </tr>\n",
       "  </thead>\n",
       "  <tbody>\n",
       "    <tr>\n",
       "      <th>0</th>\n",
       "      <td>Benzin</td>\n",
       "      <td>31,435,340</td>\n",
       "      <td>36,397,643</td>\n",
       "      <td>2021</td>\n",
       "    </tr>\n",
       "    <tr>\n",
       "      <th>1</th>\n",
       "      <td>Diesel</td>\n",
       "      <td>15,060,124</td>\n",
       "      <td>20,771,561</td>\n",
       "      <td>2021</td>\n",
       "    </tr>\n",
       "    <tr>\n",
       "      <th>2</th>\n",
       "      <td>Gas</td>\n",
       "      <td>429,832</td>\n",
       "      <td>465,935</td>\n",
       "      <td>2021</td>\n",
       "    </tr>\n",
       "    <tr>\n",
       "      <th>3</th>\n",
       "      <td>Electric</td>\n",
       "      <td>309,083</td>\n",
       "      <td>358,498</td>\n",
       "      <td>2021</td>\n",
       "    </tr>\n",
       "    <tr>\n",
       "      <th>4</th>\n",
       "      <td>Hybrid</td>\n",
       "      <td>1,004,089</td>\n",
       "      <td>1,008,131</td>\n",
       "      <td>2021</td>\n",
       "    </tr>\n",
       "  </tbody>\n",
       "</table>\n",
       "</div>"
      ],
      "text/plain": [
       "  fuel_type         pkw       total  year\n",
       "0    Benzin  31,435,340  36,397,643  2021\n",
       "1    Diesel  15,060,124  20,771,561  2021\n",
       "2       Gas     429,832     465,935  2021\n",
       "3  Electric     309,083     358,498  2021\n",
       "4    Hybrid   1,004,089   1,008,131  2021"
      ]
     },
     "execution_count": 7,
     "metadata": {},
     "output_type": "execute_result"
    }
   ],
   "source": [
    "df.head()"
   ]
  },
  {
   "cell_type": "code",
   "execution_count": 13,
   "id": "b06f92f3-4600-4bf9-95e6-84da6e37432b",
   "metadata": {},
   "outputs": [
    {
     "ename": "AttributeError",
     "evalue": "Can only use .str accessor with string values!",
     "output_type": "error",
     "traceback": [
      "\u001b[1;31m---------------------------------------------------------------------------\u001b[0m",
      "\u001b[1;31mAttributeError\u001b[0m                            Traceback (most recent call last)",
      "Cell \u001b[1;32mIn[13], line 2\u001b[0m\n\u001b[0;32m      1\u001b[0m \u001b[38;5;66;03m# Convert 'pkw' and 'total' columns to integers (removing commas first)\u001b[39;00m\n\u001b[1;32m----> 2\u001b[0m df[\u001b[38;5;124m\"\u001b[39m\u001b[38;5;124mpkw\u001b[39m\u001b[38;5;124m\"\u001b[39m] \u001b[38;5;241m=\u001b[39m \u001b[43mdf\u001b[49m\u001b[43m[\u001b[49m\u001b[38;5;124;43m\"\u001b[39;49m\u001b[38;5;124;43mpkw\u001b[39;49m\u001b[38;5;124;43m\"\u001b[39;49m\u001b[43m]\u001b[49m\u001b[38;5;241;43m.\u001b[39;49m\u001b[43mstr\u001b[49m\u001b[38;5;241m.\u001b[39mreplace(\u001b[38;5;124m\"\u001b[39m\u001b[38;5;124m,\u001b[39m\u001b[38;5;124m\"\u001b[39m, \u001b[38;5;124m\"\u001b[39m\u001b[38;5;124m\"\u001b[39m)\u001b[38;5;241m.\u001b[39mastype(\u001b[38;5;28mint\u001b[39m)\n\u001b[0;32m      3\u001b[0m df[\u001b[38;5;124m\"\u001b[39m\u001b[38;5;124mtotal\u001b[39m\u001b[38;5;124m\"\u001b[39m] \u001b[38;5;241m=\u001b[39m df[\u001b[38;5;124m\"\u001b[39m\u001b[38;5;124mtotal\u001b[39m\u001b[38;5;124m\"\u001b[39m]\u001b[38;5;241m.\u001b[39mstr\u001b[38;5;241m.\u001b[39mreplace(\u001b[38;5;124m\"\u001b[39m\u001b[38;5;124m,\u001b[39m\u001b[38;5;124m\"\u001b[39m, \u001b[38;5;124m\"\u001b[39m\u001b[38;5;124m\"\u001b[39m)\u001b[38;5;241m.\u001b[39mastype(\u001b[38;5;28mint\u001b[39m)\n\u001b[0;32m      5\u001b[0m \u001b[38;5;66;03m# Check the cleaned dataset\u001b[39;00m\n",
      "File \u001b[1;32m~\\anaconda3\\envs\\DataAnalytics\\Lib\\site-packages\\pandas\\core\\generic.py:6299\u001b[0m, in \u001b[0;36mNDFrame.__getattr__\u001b[1;34m(self, name)\u001b[0m\n\u001b[0;32m   6292\u001b[0m \u001b[38;5;28;01mif\u001b[39;00m (\n\u001b[0;32m   6293\u001b[0m     name \u001b[38;5;129;01mnot\u001b[39;00m \u001b[38;5;129;01min\u001b[39;00m \u001b[38;5;28mself\u001b[39m\u001b[38;5;241m.\u001b[39m_internal_names_set\n\u001b[0;32m   6294\u001b[0m     \u001b[38;5;129;01mand\u001b[39;00m name \u001b[38;5;129;01mnot\u001b[39;00m \u001b[38;5;129;01min\u001b[39;00m \u001b[38;5;28mself\u001b[39m\u001b[38;5;241m.\u001b[39m_metadata\n\u001b[0;32m   6295\u001b[0m     \u001b[38;5;129;01mand\u001b[39;00m name \u001b[38;5;129;01mnot\u001b[39;00m \u001b[38;5;129;01min\u001b[39;00m \u001b[38;5;28mself\u001b[39m\u001b[38;5;241m.\u001b[39m_accessors\n\u001b[0;32m   6296\u001b[0m     \u001b[38;5;129;01mand\u001b[39;00m \u001b[38;5;28mself\u001b[39m\u001b[38;5;241m.\u001b[39m_info_axis\u001b[38;5;241m.\u001b[39m_can_hold_identifiers_and_holds_name(name)\n\u001b[0;32m   6297\u001b[0m ):\n\u001b[0;32m   6298\u001b[0m     \u001b[38;5;28;01mreturn\u001b[39;00m \u001b[38;5;28mself\u001b[39m[name]\n\u001b[1;32m-> 6299\u001b[0m \u001b[38;5;28;01mreturn\u001b[39;00m \u001b[38;5;28;43mobject\u001b[39;49m\u001b[38;5;241;43m.\u001b[39;49m\u001b[38;5;21;43m__getattribute__\u001b[39;49m\u001b[43m(\u001b[49m\u001b[38;5;28;43mself\u001b[39;49m\u001b[43m,\u001b[49m\u001b[43m \u001b[49m\u001b[43mname\u001b[49m\u001b[43m)\u001b[49m\n",
      "File \u001b[1;32m~\\anaconda3\\envs\\DataAnalytics\\Lib\\site-packages\\pandas\\core\\accessor.py:224\u001b[0m, in \u001b[0;36mCachedAccessor.__get__\u001b[1;34m(self, obj, cls)\u001b[0m\n\u001b[0;32m    221\u001b[0m \u001b[38;5;28;01mif\u001b[39;00m obj \u001b[38;5;129;01mis\u001b[39;00m \u001b[38;5;28;01mNone\u001b[39;00m:\n\u001b[0;32m    222\u001b[0m     \u001b[38;5;66;03m# we're accessing the attribute of the class, i.e., Dataset.geo\u001b[39;00m\n\u001b[0;32m    223\u001b[0m     \u001b[38;5;28;01mreturn\u001b[39;00m \u001b[38;5;28mself\u001b[39m\u001b[38;5;241m.\u001b[39m_accessor\n\u001b[1;32m--> 224\u001b[0m accessor_obj \u001b[38;5;241m=\u001b[39m \u001b[38;5;28;43mself\u001b[39;49m\u001b[38;5;241;43m.\u001b[39;49m\u001b[43m_accessor\u001b[49m\u001b[43m(\u001b[49m\u001b[43mobj\u001b[49m\u001b[43m)\u001b[49m\n\u001b[0;32m    225\u001b[0m \u001b[38;5;66;03m# Replace the property with the accessor object. Inspired by:\u001b[39;00m\n\u001b[0;32m    226\u001b[0m \u001b[38;5;66;03m# https://www.pydanny.com/cached-property.html\u001b[39;00m\n\u001b[0;32m    227\u001b[0m \u001b[38;5;66;03m# We need to use object.__setattr__ because we overwrite __setattr__ on\u001b[39;00m\n\u001b[0;32m    228\u001b[0m \u001b[38;5;66;03m# NDFrame\u001b[39;00m\n\u001b[0;32m    229\u001b[0m \u001b[38;5;28mobject\u001b[39m\u001b[38;5;241m.\u001b[39m\u001b[38;5;21m__setattr__\u001b[39m(obj, \u001b[38;5;28mself\u001b[39m\u001b[38;5;241m.\u001b[39m_name, accessor_obj)\n",
      "File \u001b[1;32m~\\anaconda3\\envs\\DataAnalytics\\Lib\\site-packages\\pandas\\core\\strings\\accessor.py:191\u001b[0m, in \u001b[0;36mStringMethods.__init__\u001b[1;34m(self, data)\u001b[0m\n\u001b[0;32m    188\u001b[0m \u001b[38;5;28;01mdef\u001b[39;00m\u001b[38;5;250m \u001b[39m\u001b[38;5;21m__init__\u001b[39m(\u001b[38;5;28mself\u001b[39m, data) \u001b[38;5;241m-\u001b[39m\u001b[38;5;241m>\u001b[39m \u001b[38;5;28;01mNone\u001b[39;00m:\n\u001b[0;32m    189\u001b[0m     \u001b[38;5;28;01mfrom\u001b[39;00m\u001b[38;5;250m \u001b[39m\u001b[38;5;21;01mpandas\u001b[39;00m\u001b[38;5;21;01m.\u001b[39;00m\u001b[38;5;21;01mcore\u001b[39;00m\u001b[38;5;21;01m.\u001b[39;00m\u001b[38;5;21;01marrays\u001b[39;00m\u001b[38;5;21;01m.\u001b[39;00m\u001b[38;5;21;01mstring_\u001b[39;00m\u001b[38;5;250m \u001b[39m\u001b[38;5;28;01mimport\u001b[39;00m StringDtype\n\u001b[1;32m--> 191\u001b[0m     \u001b[38;5;28mself\u001b[39m\u001b[38;5;241m.\u001b[39m_inferred_dtype \u001b[38;5;241m=\u001b[39m \u001b[38;5;28;43mself\u001b[39;49m\u001b[38;5;241;43m.\u001b[39;49m\u001b[43m_validate\u001b[49m\u001b[43m(\u001b[49m\u001b[43mdata\u001b[49m\u001b[43m)\u001b[49m\n\u001b[0;32m    192\u001b[0m     \u001b[38;5;28mself\u001b[39m\u001b[38;5;241m.\u001b[39m_is_categorical \u001b[38;5;241m=\u001b[39m \u001b[38;5;28misinstance\u001b[39m(data\u001b[38;5;241m.\u001b[39mdtype, CategoricalDtype)\n\u001b[0;32m    193\u001b[0m     \u001b[38;5;28mself\u001b[39m\u001b[38;5;241m.\u001b[39m_is_string \u001b[38;5;241m=\u001b[39m \u001b[38;5;28misinstance\u001b[39m(data\u001b[38;5;241m.\u001b[39mdtype, StringDtype)\n",
      "File \u001b[1;32m~\\anaconda3\\envs\\DataAnalytics\\Lib\\site-packages\\pandas\\core\\strings\\accessor.py:245\u001b[0m, in \u001b[0;36mStringMethods._validate\u001b[1;34m(data)\u001b[0m\n\u001b[0;32m    242\u001b[0m inferred_dtype \u001b[38;5;241m=\u001b[39m lib\u001b[38;5;241m.\u001b[39minfer_dtype(values, skipna\u001b[38;5;241m=\u001b[39m\u001b[38;5;28;01mTrue\u001b[39;00m)\n\u001b[0;32m    244\u001b[0m \u001b[38;5;28;01mif\u001b[39;00m inferred_dtype \u001b[38;5;129;01mnot\u001b[39;00m \u001b[38;5;129;01min\u001b[39;00m allowed_types:\n\u001b[1;32m--> 245\u001b[0m     \u001b[38;5;28;01mraise\u001b[39;00m \u001b[38;5;167;01mAttributeError\u001b[39;00m(\u001b[38;5;124m\"\u001b[39m\u001b[38;5;124mCan only use .str accessor with string values!\u001b[39m\u001b[38;5;124m\"\u001b[39m)\n\u001b[0;32m    246\u001b[0m \u001b[38;5;28;01mreturn\u001b[39;00m inferred_dtype\n",
      "\u001b[1;31mAttributeError\u001b[0m: Can only use .str accessor with string values!"
     ]
    }
   ],
   "source": [
    "# Convert 'pkw' and 'total' columns to integers (removing commas first)\n",
    "df[\"pkw\"] = df[\"pkw\"].str.replace(\",\", \"\").astype(int)\n",
    "df[\"total\"] = df[\"total\"].str.replace(\",\", \"\").astype(int)\n",
    "\n",
    "# Check the cleaned dataset\n",
    "df.head()\n"
   ]
  },
  {
   "cell_type": "code",
   "execution_count": null,
   "id": "2c599526-1611-4e5b-8a0f-143556e65ed9",
   "metadata": {},
   "outputs": [],
   "source": [
    "# Set the plot style\n",
    "sns.set_style(\"whitegrid\")\n",
    "\n",
    "# Pivot the data to get years on x-axis and fuel types as separate lines\n",
    "plt.figure(figsize=(12, 6))\n",
    "sns.lineplot(data=df, x=\"year\", y=\"pkw\", hue=\"fuel_type\", marker=\"o\")\n",
    "\n",
    "# Labels and title\n",
    "plt.xlabel(\"Year\")\n",
    "plt.ylabel(\"Number of Cars (in millions)\")\n",
    "plt.title(\"Cars Over Years (2018-2024)\")\n",
    "\n",
    "# Move legend outside\n",
    "plt.legend(title=\"Fuel Type\", bbox_to_anchor=(1.05, 1), loc=\"upper left\")\n",
    "\n",
    "# Adjust layout to fit legend\n",
    "plt.tight_layout()\n",
    "plt.show()"
   ]
  },
  {
   "cell_type": "code",
   "execution_count": null,
   "id": "a9aa21d5-e062-4546-9315-7a8743bb52ba",
   "metadata": {},
   "outputs": [],
   "source": [
    "df.to_csv('./clean_data/cars_based_on_fuel_per_year.csv',  index=False)"
   ]
  },
  {
   "cell_type": "markdown",
   "id": "5b19f352-7e40-433c-a3a6-65d01cb6bfdd",
   "metadata": {},
   "source": [
    "Since we are only interested in E-Autos and the rest, we will convert the data again"
   ]
  },
  {
   "cell_type": "code",
   "execution_count": 11,
   "id": "c85b0ac8-3c8d-4853-bfaf-424057f38bd0",
   "metadata": {},
   "outputs": [
    {
     "data": {
      "text/plain": [
       "fuel_type\n",
       "Others      30\n",
       "Electric     6\n",
       "Hybrid E     6\n",
       "Name: count, dtype: int64"
      ]
     },
     "execution_count": 11,
     "metadata": {},
     "output_type": "execute_result"
    }
   ],
   "source": [
    "df_filtered = df.copy()\n",
    "fuel_type_mapping = {\n",
    " 'Benzin': 'Others', \n",
    " 'Diesel': 'Others', \n",
    " 'Gas': 'Others',  \n",
    " 'Sonstige': 'Others',\n",
    " 'Hybrid': 'Others',  \n",
    " 'Electric': 'Electric',\n",
    " 'Hybrid E': 'Hybrid E'  \n",
    " }\n",
    "\n",
    "df_filtered['fuel_type'] = df_filtered['fuel_type'].replace(fuel_type_mapping)\n",
    "df_filtered[\"fuel_type\"].value_counts()"
   ]
  },
  {
   "cell_type": "code",
   "execution_count": 12,
   "id": "346e142e-c046-488c-b4e9-3c8aa6181c9c",
   "metadata": {},
   "outputs": [
    {
     "data": {
      "image/png": "[encoded data removed]",
      "text/plain": [
       "<Figure size 1200x600 with 1 Axes>"
      ]
     },
     "metadata": {},
     "output_type": "display_data"
    }
   ],
   "source": [
    "# Set the plot style\n",
    "sns.set_style(\"whitegrid\")\n",
    "\n",
    "# Pivot the data to get years on x-axis and fuel types as separate lines\n",
    "plt.figure(figsize=(12, 6))\n",
    "sns.lineplot(data=df_filtered, x=\"year\", y=\"pkw\", hue=\"fuel_type\", marker=\"o\")\n",
    "\n",
    "# Labels and title\n",
    "plt.xlabel(\"Year\")\n",
    "plt.ylabel(\"Number of Cars (in millions)\")\n",
    "plt.title(\"Cars Over Years (2018-2024)\")\n",
    "\n",
    "# Move legend outside\n",
    "plt.legend(title=\"Fuel Type\", bbox_to_anchor=(1.05, 1), loc=\"upper left\")\n",
    "\n",
    "# Adjust layout to fit legend\n",
    "plt.tight_layout()\n",
    "plt.show()"
   ]
  },
  {
   "cell_type": "code",
   "execution_count": null,
   "id": "730e277e-331b-4a5f-a444-e23ea3786d45",
   "metadata": {},
   "outputs": [],
   "source": []
  },
  {
   "cell_type": "code",
   "execution_count": null,
   "id": "cde64982-a70a-4837-89f5-d0e0d855fcbe",
   "metadata": {},
   "outputs": [],
   "source": []
  }
 ],
 "metadata": {
  "kernelspec": {
   "display_name": "Python 3 (ipykernel)",
   "language": "python",
   "name": "python3"
  },
  "language_info": {
   "codemirror_mode": {
    "name": "ipython",
    "version": 3
   },
   "file_extension": ".py",
   "mimetype": "text/x-python",
   "name": "python",
   "nbconvert_exporter": "python",
   "pygments_lexer": "ipython3",
   "version": "3.12.4"
  }
 },
 "nbformat": 4,
 "nbformat_minor": 5
}
